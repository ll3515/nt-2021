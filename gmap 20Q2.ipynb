{
 "cells": [
  {
   "cell_type": "markdown",
   "metadata": {},
   "source": [
    "# Guide mapping 20Q2\n",
    "\n",
    "No change in the guides used in 19Q3 and 20Q3; the mapping of 19Q3 is valid here and no need to repeat the analysis"
   ]
  },
  {
   "cell_type": "markdown",
   "metadata": {},
   "source": [
    "### Are the guides in logFC matrix same in 19Q3 and 20Q2?"
   ]
  },
  {
   "cell_type": "code",
   "execution_count": 2,
   "metadata": {},
   "outputs": [],
   "source": [
    "options(stringsAsFactors=F)\n",
    "source(\"~/Dropbox/tools/R_functions/Liisi_functions.R\")\n",
    "source(\"~/Dropbox/tools/R_functions/000.R_functions.R\")"
   ]
  },
  {
   "cell_type": "code",
   "execution_count": 3,
   "metadata": {},
   "outputs": [
    {
     "data": {
      "text/html": [
       "<ol class=list-inline>\n",
       "\t<li>'AAAAAAATCCAGCAATGCAG'</li>\n",
       "\t<li>'AAAAAACCCGTAGATAGCCT'</li>\n",
       "\t<li>'AAAAAAGAAGAAAAAACCAG'</li>\n",
       "\t<li>'AAAAAAGCTCAAGAAGGAGG'</li>\n",
       "\t<li>'AAAAAAGGCTGTAAAAGCGT'</li>\n",
       "\t<li>'AAAAAAGGGCTCCAAAAAGG'</li>\n",
       "</ol>\n"
      ],
      "text/latex": [
       "\\begin{enumerate*}\n",
       "\\item 'AAAAAAATCCAGCAATGCAG'\n",
       "\\item 'AAAAAACCCGTAGATAGCCT'\n",
       "\\item 'AAAAAAGAAGAAAAAACCAG'\n",
       "\\item 'AAAAAAGCTCAAGAAGGAGG'\n",
       "\\item 'AAAAAAGGCTGTAAAAGCGT'\n",
       "\\item 'AAAAAAGGGCTCCAAAAAGG'\n",
       "\\end{enumerate*}\n"
      ],
      "text/markdown": [
       "1. 'AAAAAAATCCAGCAATGCAG'\n",
       "2. 'AAAAAACCCGTAGATAGCCT'\n",
       "3. 'AAAAAAGAAGAAAAAACCAG'\n",
       "4. 'AAAAAAGCTCAAGAAGGAGG'\n",
       "5. 'AAAAAAGGCTGTAAAAGCGT'\n",
       "6. 'AAAAAAGGGCTCCAAAAAGG'\n",
       "\n",
       "\n"
      ],
      "text/plain": [
       "[1] \"AAAAAAATCCAGCAATGCAG\" \"AAAAAACCCGTAGATAGCCT\" \"AAAAAAGAAGAAAAAACCAG\"\n",
       "[4] \"AAAAAAGCTCAAGAAGGAGG\" \"AAAAAAGGCTGTAAAAGCGT\" \"AAAAAAGGGCTCCAAAAAGG\""
      ]
     },
     "metadata": {},
     "output_type": "display_data"
    },
    {
     "data": {
      "text/html": [
       "74687"
      ],
      "text/latex": [
       "74687"
      ],
      "text/markdown": [
       "74687"
      ],
      "text/plain": [
       "[1] 74687"
      ]
     },
     "metadata": {},
     "output_type": "display_data"
    },
    {
     "data": {
      "text/html": [
       "74687"
      ],
      "text/latex": [
       "74687"
      ],
      "text/markdown": [
       "74687"
      ],
      "text/plain": [
       "[1] 74687"
      ]
     },
     "metadata": {},
     "output_type": "display_data"
    }
   ],
   "source": [
    "# Guides from 19Q3\n",
    "# rownames of the log2 matrix\n",
    "guides = read.delim(\"/Users/ll3515/Dropbox/PROJECTS/ACHILLES/CRISPR_19Q3/allGuides.txt\", header = F); guides = as.character(guides$V1)\n",
    "head(guides); length(guides); length(unique(guides))"
   ]
  },
  {
   "cell_type": "code",
   "execution_count": 8,
   "metadata": {},
   "outputs": [
    {
     "data": {
      "text/html": [
       "<ol class=list-inline>\n",
       "\t<li>'AAAAAAATCCAGCAATGCAG'</li>\n",
       "\t<li>'AAAAAACCCGTAGATAGCCT'</li>\n",
       "\t<li>'AAAAAAGAAGAAAAAACCAG'</li>\n",
       "\t<li>'AAAAAAGCTCAAGAAGGAGG'</li>\n",
       "\t<li>'AAAAAAGGCTGTAAAAGCGT'</li>\n",
       "\t<li>'AAAAAAGGGCTCCAAAAAGG'</li>\n",
       "</ol>\n"
      ],
      "text/latex": [
       "\\begin{enumerate*}\n",
       "\\item 'AAAAAAATCCAGCAATGCAG'\n",
       "\\item 'AAAAAACCCGTAGATAGCCT'\n",
       "\\item 'AAAAAAGAAGAAAAAACCAG'\n",
       "\\item 'AAAAAAGCTCAAGAAGGAGG'\n",
       "\\item 'AAAAAAGGCTGTAAAAGCGT'\n",
       "\\item 'AAAAAAGGGCTCCAAAAAGG'\n",
       "\\end{enumerate*}\n"
      ],
      "text/markdown": [
       "1. 'AAAAAAATCCAGCAATGCAG'\n",
       "2. 'AAAAAACCCGTAGATAGCCT'\n",
       "3. 'AAAAAAGAAGAAAAAACCAG'\n",
       "4. 'AAAAAAGCTCAAGAAGGAGG'\n",
       "5. 'AAAAAAGGCTGTAAAAGCGT'\n",
       "6. 'AAAAAAGGGCTCCAAAAAGG'\n",
       "\n",
       "\n"
      ],
      "text/plain": [
       "[1] \"AAAAAAATCCAGCAATGCAG\" \"AAAAAACCCGTAGATAGCCT\" \"AAAAAAGAAGAAAAAACCAG\"\n",
       "[4] \"AAAAAAGCTCAAGAAGGAGG\" \"AAAAAAGGCTGTAAAAGCGT\" \"AAAAAAGGGCTCCAAAAAGG\""
      ]
     },
     "metadata": {},
     "output_type": "display_data"
    },
    {
     "data": {
      "text/html": [
       "74687"
      ],
      "text/latex": [
       "74687"
      ],
      "text/markdown": [
       "74687"
      ],
      "text/plain": [
       "[1] 74687"
      ]
     },
     "metadata": {},
     "output_type": "display_data"
    }
   ],
   "source": [
    "guides20 = read.csv(\"/Users/ll3515/Dropbox/PROJECTS/ACHILLES/CRISPR_20Q2/Guide_alignements_and_annot/guides_20Q2.csv\")\n",
    "guides20 = guides20$x; head(guides20); length(guides20)"
   ]
  },
  {
   "cell_type": "code",
   "execution_count": 10,
   "metadata": {},
   "outputs": [
    {
     "data": {
      "text/html": [
       "TRUE"
      ],
      "text/latex": [
       "TRUE"
      ],
      "text/markdown": [
       "TRUE"
      ],
      "text/plain": [
       "[1] TRUE"
      ]
     },
     "metadata": {},
     "output_type": "display_data"
    }
   ],
   "source": [
    "all(guides %in% guides20)"
   ]
  }
 ],
 "metadata": {
  "kernelspec": {
   "display_name": "R",
   "language": "R",
   "name": "ir"
  },
  "language_info": {
   "codemirror_mode": "r",
   "file_extension": ".r",
   "mimetype": "text/x-r-source",
   "name": "R",
   "pygments_lexer": "r",
   "version": "3.5.3"
  }
 },
 "nbformat": 4,
 "nbformat_minor": 2
}
